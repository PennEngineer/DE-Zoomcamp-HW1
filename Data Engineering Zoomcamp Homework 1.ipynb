{
 "cells": [
  {
   "cell_type": "code",
   "execution_count": 4,
   "id": "89af2137",
   "metadata": {},
   "outputs": [],
   "source": [
    "import psycopg2\n",
    "import pandas as pd"
   ]
  },
  {
   "cell_type": "markdown",
   "id": "5b5a5aba",
   "metadata": {},
   "source": [
    "# Establish connection to Database"
   ]
  },
  {
   "cell_type": "code",
   "execution_count": 5,
   "id": "d0935927",
   "metadata": {},
   "outputs": [],
   "source": [
    "conn = psycopg2.connect(\n",
    "    dbname=\"mypostgres\", \n",
    "    user=\"postgres\", \n",
    "    password=\"YourPassword\", \n",
    "    host=\"localhost\", \n",
    "    port=\"5432\"\n",
    ")"
   ]
  },
  {
   "cell_type": "code",
   "execution_count": 6,
   "id": "64522315",
   "metadata": {},
   "outputs": [],
   "source": [
    "cur = conn.cursor()"
   ]
  },
  {
   "cell_type": "markdown",
   "id": "06f9f52f",
   "metadata": {},
   "source": [
    "# Read in the excel files"
   ]
  },
  {
   "cell_type": "code",
   "execution_count": 7,
   "id": "a4ea6464",
   "metadata": {},
   "outputs": [
    {
     "name": "stderr",
     "output_type": "stream",
     "text": [
      "/tmp/ipykernel_3436/2647400118.py:1: DtypeWarning: Columns (3) have mixed types. Specify dtype option on import or set low_memory=False.\n",
      "  df_green_taxi = pd.read_csv('green_tripdata_2019-09.csv')\n"
     ]
    }
   ],
   "source": [
    "df_green_taxi = pd.read_csv('green_tripdata_2019-09.csv')\n",
    "df_taxi_zone = pd.read_csv('taxi+_zone_lookup.csv')"
   ]
  },
  {
   "cell_type": "code",
   "execution_count": 8,
   "id": "1c66556d",
   "metadata": {},
   "outputs": [
    {
     "name": "stdout",
     "output_type": "stream",
     "text": [
      "Requirement already satisfied: sqlalchemy in /home/kevin/anaconda3/lib/python3.11/site-packages (1.4.39)\n",
      "Requirement already satisfied: greenlet!=0.4.17 in /home/kevin/anaconda3/lib/python3.11/site-packages (from sqlalchemy) (2.0.1)\n",
      "Note: you may need to restart the kernel to use updated packages.\n"
     ]
    }
   ],
   "source": [
    "pip install sqlalchemy\n"
   ]
  },
  {
   "cell_type": "code",
   "execution_count": 9,
   "id": "2b5090fc",
   "metadata": {},
   "outputs": [],
   "source": [
    "from sqlalchemy import create_engine\n",
    "\n",
    "# Replace the following with your actual database credentials\n",
    "user = 'postgres'\n",
    "password = 'YourPassword'\n",
    "host = 'localhost'\n",
    "port = '5432'\n",
    "db = 'mypostgres'\n",
    "\n",
    "engine = create_engine(f'postgresql://{user}:{password}@{host}:{port}/{db}')\n"
   ]
  },
  {
   "cell_type": "markdown",
   "id": "4501a127",
   "metadata": {},
   "source": [
    "# Bring in the files into postgres DB table"
   ]
  },
  {
   "cell_type": "code",
   "execution_count": 10,
   "id": "31aaea09",
   "metadata": {},
   "outputs": [
    {
     "data": {
      "text/plain": [
       "265"
      ]
     },
     "execution_count": 10,
     "metadata": {},
     "output_type": "execute_result"
    }
   ],
   "source": [
    "df_green_taxi.to_sql('green_taxi_trips', engine, if_exists='replace', index=False)\n",
    "df_taxi_zone.to_sql('taxi_zone_lookup', engine, if_exists='replace', index=False)\n"
   ]
  },
  {
   "cell_type": "markdown",
   "id": "c632dcba",
   "metadata": {},
   "source": [
    "# Question 3. Count records"
   ]
  },
  {
   "cell_type": "code",
   "execution_count": 11,
   "id": "675d390d",
   "metadata": {},
   "outputs": [
    {
     "name": "stdout",
     "output_type": "stream",
     "text": [
      "15612\n"
     ]
    }
   ],
   "source": [
    "with engine.connect() as connection:\n",
    "    result = connection.execute(\"\"\"\n",
    "        SELECT COUNT(*)\n",
    "        FROM green_taxi_trips\n",
    "        WHERE \n",
    "            DATE(lpep_pickup_datetime) = '2019-09-18'\n",
    "            AND DATE(lpep_dropoff_datetime) = '2019-09-18';\n",
    "    \"\"\")\n",
    "    count = result.scalar()\n",
    "    print(count)\n"
   ]
  },
  {
   "cell_type": "markdown",
   "id": "5cafa387",
   "metadata": {},
   "source": [
    "# Question 4. Largest trip for each day"
   ]
  },
  {
   "cell_type": "code",
   "execution_count": 13,
   "id": "bec76498",
   "metadata": {},
   "outputs": [
    {
     "name": "stdout",
     "output_type": "stream",
     "text": [
      "2019-09-26\n"
     ]
    }
   ],
   "source": [
    "with engine.connect() as connection:\n",
    "    result = connection.execute(\"\"\"\n",
    "        SELECT DATE(lpep_pickup_datetime) AS pickup_day, SUM(trip_distance) AS total_distance\n",
    "        FROM green_taxi_trips\n",
    "        GROUP BY pickup_day\n",
    "        ORDER BY total_distance DESC\n",
    "        LIMIT 1;\n",
    "    \"\"\")\n",
    "    for row in result:\n",
    "        print(row['pickup_day'])"
   ]
  },
  {
   "cell_type": "markdown",
   "id": "a9e47785",
   "metadata": {},
   "source": [
    "# Question 5. Three biggest pick up Boroughs"
   ]
  },
  {
   "cell_type": "code",
   "execution_count": 14,
   "id": "c351c55d",
   "metadata": {},
   "outputs": [
    {
     "name": "stdout",
     "output_type": "stream",
     "text": [
      "Brooklyn 96333.24000000037\n",
      "Manhattan 92271.2999999995\n",
      "Queens 78671.71000000002\n"
     ]
    }
   ],
   "source": [
    "with engine.connect() as connection:\n",
    "    result = connection.execute(\"\"\"\n",
    "        SELECT z.\"Borough\", SUM(t.total_amount) AS total_amount_sum\n",
    "        FROM green_taxi_trips t\n",
    "        JOIN taxi_zone_lookup z ON t.\"PULocationID\" = z.\"LocationID\"\n",
    "        WHERE DATE(t.lpep_pickup_datetime) = '2019-09-18' \n",
    "            AND z.\"Borough\" <> 'Unknown'\n",
    "        GROUP BY z.\"Borough\"\n",
    "        HAVING SUM(t.total_amount) > 50000\n",
    "        ORDER BY total_amount_sum DESC\n",
    "        LIMIT 3\n",
    "    \"\"\")\n",
    "    for row in result:\n",
    "        print(row['Borough'], row['total_amount_sum'])"
   ]
  },
  {
   "cell_type": "markdown",
   "id": "e26fd046",
   "metadata": {},
   "source": [
    "# Question 6. Largest tip"
   ]
  },
  {
   "cell_type": "code",
   "execution_count": 15,
   "id": "86b79a67",
   "metadata": {},
   "outputs": [
    {
     "name": "stdout",
     "output_type": "stream",
     "text": [
      "('JFK Airport', 62.31)\n"
     ]
    }
   ],
   "source": [
    "with engine.connect() as connection:\n",
    "    result = connection.execute(\"\"\"\n",
    "        SELECT z_dropoff.\"Zone\" AS dropoff_zone, MAX(t.tip_amount) AS max_tip\n",
    "        FROM green_taxi_trips t\n",
    "        JOIN taxi_zone_lookup z_pickup ON t.\"PULocationID\" = z_pickup.\"LocationID\"\n",
    "        JOIN taxi_zone_lookup z_dropoff ON t.\"DOLocationID\" = z_dropoff.\"LocationID\"\n",
    "        WHERE DATE(t.lpep_pickup_datetime) >= '2019-09-01' \n",
    "            AND DATE(t.lpep_pickup_datetime) < '2019-10-01'\n",
    "            AND z_pickup.\"Zone\" = 'Astoria'\n",
    "        GROUP BY z_dropoff.\"Zone\"\n",
    "        ORDER BY max_tip DESC\n",
    "        LIMIT 1;\n",
    "    \"\"\")\n",
    "    first_row = result.fetchone()\n",
    "    print(first_row)"
   ]
  },
  {
   "cell_type": "code",
   "execution_count": null,
   "id": "6773bdfa",
   "metadata": {},
   "outputs": [],
   "source": []
  }
 ],
 "metadata": {
  "kernelspec": {
   "display_name": "Python 3 (ipykernel)",
   "language": "python",
   "name": "python3"
  },
  "language_info": {
   "codemirror_mode": {
    "name": "ipython",
    "version": 3
   },
   "file_extension": ".py",
   "mimetype": "text/x-python",
   "name": "python",
   "nbconvert_exporter": "python",
   "pygments_lexer": "ipython3",
   "version": "3.11.5"
  }
 },
 "nbformat": 4,
 "nbformat_minor": 5
}
